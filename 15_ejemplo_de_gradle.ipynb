{
 "cells": [
  {
   "cell_type": "markdown",
   "metadata": {},
   "source": [
    "<a href=\"https://cloudevel.com\"> <img src=\"img/cloudevel.png\" width=\"500px\"></a>"
   ]
  },
  {
   "cell_type": "markdown",
   "metadata": {},
   "source": [
    "# Ejemplo de un proyecto de Gradle."
   ]
  },
  {
   "cell_type": "markdown",
   "metadata": {},
   "source": [
    "## Preliminares.\n",
    "\n",
    "Antes de empezar, es necesario instalar y configurar algunas herramientas básicas. La siguiente celda verificará que *Gradle* esté instalado en el sistema."
   ]
  },
  {
   "cell_type": "code",
   "execution_count": 1,
   "metadata": {},
   "outputs": [
    {
     "name": "stdout",
     "output_type": "stream",
     "text": [
      "\n",
      "Welcome to Gradle 6.2.2!\n",
      "\n",
      "Here are the highlights of this release:\n",
      " - Dependency checksum and signature verification\n",
      " - Shareable read-only dependency cache\n",
      " - Documentation links in deprecation messages\n",
      "\n",
      "For more details see https://docs.gradle.org/6.2.2/release-notes.html\n",
      "\n",
      "\n",
      "------------------------------------------------------------\n",
      "Gradle 6.2.2\n",
      "------------------------------------------------------------\n",
      "\n",
      "Build time:   2020-03-04 08:49:31 UTC\n",
      "Revision:     7d0bf6dcb46c143bcc3b7a0fa40a8e5ca28e5856\n",
      "\n",
      "Kotlin:       1.3.61\n",
      "Groovy:       2.5.8\n",
      "Ant:          Apache Ant(TM) version 1.10.7 compiled on September 1 2019\n",
      "JVM:          11.0.6 (Ubuntu 11.0.6+10-post-Ubuntu-1ubuntu118.04.1)\n",
      "OS:           Linux 4.15.0-91-generic amd64\n",
      "\n"
     ]
    }
   ],
   "source": [
    "gradle -v"
   ]
  },
  {
   "cell_type": "markdown",
   "metadata": {},
   "source": [
    "## Comandos de *Gradle*.\n",
    "\n",
    "Gradle permite probar, compilar y construir un proyecto mediante una serie de comandos, los cuales peuden ser consultados en la siguiente liga.\n",
    "\n",
    "https://docs.gradle.org/current/userguide/command_line_interface.html"
   ]
  },
  {
   "cell_type": "markdown",
   "metadata": {},
   "source": [
    "## *Spring Boot.*\n",
    "\n",
    "[*Spring Boot*](https://spring.io/projects/spring-boot) es una herramienta que forma parte de [*Spring Framework*](https://spring.io), la cual permite desarrollar y desplegar aplicaciones web de forma rápida y con muy pocas configuraciones.\n",
    "\n",
    "* Es compatible con [*Apache Maven*](https://maven.apache.org/) y [*Gradle*](https://gradle.org/).\n",
    "* Permite utilizar código escrito en *Java*, [*Groovy*](https://groovy-lang.org/) y [*Kotlin*](https://kotlinlang.org/).\n",
    "* Cuenta con todo el stack de *Spring* para desarrollo de aplicaciones web.\n",
    "* Cuenta con una interfaz de línea de comandos (CLI).\n",
    "* Permite crear plantillas de proyectos de forma automatizada.\n"
   ]
  },
  {
   "cell_type": "markdown",
   "metadata": {},
   "source": [
    "La documentación de referencia de Spring Boot puede ser consultada desde:\n",
    "https://docs.spring.io/spring-boot/docs/2.1.12.RELEASE/reference/html/"
   ]
  },
  {
   "cell_type": "markdown",
   "metadata": {},
   "source": [
    "* La siguiente celda despelgará un servicio web en http://localhost:8080 a partir del archivo previo."
   ]
  },
  {
   "cell_type": "markdown",
   "metadata": {},
   "source": [
    "### *Spring Initializr*.\n",
    "\n",
    "Para facilitar el desarrollo de plantillas para el desarrollo de aplicaciones a la medida de forma ágil, está disponible el servico en línea llamado *Spring Initializr*, mediante el cual es posible crear una estructura de archivos compatibles con *Apache Maven* y *Gradle* que incluyen los componentes y dependencias de un proyecto específico.\n",
    "\n",
    "El servicio se encuentra en https://start.spring.io/\n",
    "\n",
    "Al final se podrá descargar un archivo comp-rimido que contiene lo necesario para comenzar a desarrolla una aplicación."
   ]
  },
  {
   "cell_type": "markdown",
   "metadata": {},
   "source": [
    "## Despliegue de un proyecto de *API REST* simple.\n",
    "\n",
    "Se creará el archivo *demo-rest.zip* contiene una estructura de directorios y archivos creada mediante [*Spring Initializr*](https://start.spring.io/).\n",
    "\n",
    "* Se utilizará *Gradle* para construir un archivo *.jar*.\n",
    "* Se seleccionó *Groovy* como el lenguaje por defecto de la aplicación. \n",
    "* El grupo del proyecto es ```com.cloudevel```.\n",
    "* El nombre del proyecto es ```demo-rest```.\n",
    "* Se añadirá el componente de *Spring Web*.\n",
    "* La aplicación utiliza una estructura [*HashMap*](https://docs.oracle.com/javase/8/docs/api/java/util/HashMap.html) para almacenar objetos que contienen los atributos:\n",
    "    * ```id```\n",
    "    * ```name```"
   ]
  },
  {
   "cell_type": "markdown",
   "metadata": {},
   "source": [
    "* A continuación se creará el proyecto ```demo-rest```.\n",
    "\n",
    "<img src=\"img/15/initializr.png\">"
   ]
  },
  {
   "cell_type": "markdown",
   "metadata": {},
   "source": [
    "### Definción del proyecto.\n",
    "\n",
    "* La *API REST* corresponde a un sistema *CRUD* para objetos instanciados de una clase ```Product```.\n",
    "* El endpoint [localhost:8080/products](localhost:8080/products) tiene habilitados los métodos:\n",
    "   * ```GET``` para obtener un listado de los productos en formato *JSON*.\n",
    "   * ```POST``` el cual dará de alta un nuevo producto al recibir datos en formato *JSON* con la estructura ```{\"id\":\"<número>\", \"name\":\"<nombre>\"}```.\n",
    "* El endpoint ```localhost:800/products/<id>```, donde ```<id>``` es un número de identificación, tiene habilitados los métodos.\n",
    "   * ```PUT``` el cual modificará a un producto al recibir datos en formato *JSON* con la estructura ```{\"name\":\"<nombre>\"}```.\n",
    "   * ```DELETE``` el cual eliminará al producto con el valor ```<id>``` correspondiente.\n",
    "* Los datos serán almacenados y gestionados en una estructura ```HashMap```."
   ]
  },
  {
   "cell_type": "markdown",
   "metadata": {},
   "source": [
    "* A continuación se desempaquetará el proyecto ```demo-rest```."
   ]
  },
  {
   "cell_type": "code",
   "execution_count": 2,
   "metadata": {
    "scrolled": false
   },
   "outputs": [
    {
     "name": "stdout",
     "output_type": "stream",
     "text": [
      "Archive:  demo-rest.zip\n",
      "   creating: demo-rest/\n",
      "  inflating: demo-rest/settings.gradle  \n",
      "   creating: demo-rest/gradle/\n",
      "   creating: demo-rest/gradle/wrapper/\n",
      "  inflating: demo-rest/gradle/wrapper/gradle-wrapper.properties  \n",
      "  inflating: demo-rest/gradle/wrapper/gradle-wrapper.jar  \n",
      "  inflating: demo-rest/gradlew       \n",
      "  inflating: demo-rest/gradlew.bat   \n",
      "  inflating: demo-rest/build.gradle  \n",
      "   creating: demo-rest/src/\n",
      "   creating: demo-rest/src/main/\n",
      "   creating: demo-rest/src/main/groovy/\n",
      "   creating: demo-rest/src/main/groovy/com/\n",
      "   creating: demo-rest/src/main/groovy/com/cloudevel/\n",
      "   creating: demo-rest/src/main/groovy/com/cloudevel/demorest/\n",
      "  inflating: demo-rest/src/main/groovy/com/cloudevel/demorest/DemoRestApplication.groovy  \n",
      "   creating: demo-rest/src/main/resources/\n",
      "  inflating: demo-rest/src/main/resources/application.properties  \n",
      "   creating: demo-rest/src/main/resources/templates/\n",
      "   creating: demo-rest/src/main/resources/static/\n",
      "   creating: demo-rest/src/test/\n",
      "   creating: demo-rest/src/test/groovy/\n",
      "   creating: demo-rest/src/test/groovy/com/\n",
      "   creating: demo-rest/src/test/groovy/com/cloudevel/\n",
      "   creating: demo-rest/src/test/groovy/com/cloudevel/demorest/\n",
      "  inflating: demo-rest/src/test/groovy/com/cloudevel/demorest/DemoRestApplicationTests.groovy  \n",
      "  inflating: demo-rest/HELP.md       \n",
      "  inflating: demo-rest/.gitignore    \n"
     ]
    }
   ],
   "source": [
    "unzip demo-rest.zip"
   ]
  },
  {
   "cell_type": "markdown",
   "metadata": {},
   "source": [
    "* El paquete contiene una estructura similar a la siguiente:\n",
    "\n",
    "```\n",
    "demo-rest\n",
    "├── HELP.md\n",
    "├── build.gradle\n",
    "├── gradle\n",
    "│   └── wrapper\n",
    "│       ├── gradle-wrapper.jar\n",
    "│       └── gradle-wrapper.properties\n",
    "├── gradlew\n",
    "├── gradlew.bat\n",
    "├── settings.gradle\n",
    "└── src\n",
    "    ├── main\n",
    "    │   ├── groovy\n",
    "    │   │   └── com\n",
    "    │   │       └── cloudevel\n",
    "    │   │           └── demorest\n",
    "    │   │               └── DemoRestApplication.groovy\n",
    "    │   └── resources\n",
    "    │       ├── application.properties\n",
    "    │       ├── static\n",
    "    │       └── templates\n",
    "    └── test\n",
    "        └── groovy\n",
    "            └── com\n",
    "                └── cloudevel\n",
    "                    └── demorest\n",
    "                        └── DemoRestApplicationTests.groovy\n",
    "\n",
    "16 directories, 10 files\n",
    "```"
   ]
  },
  {
   "cell_type": "code",
   "execution_count": 3,
   "metadata": {},
   "outputs": [
    {
     "name": "stdout",
     "output_type": "stream",
     "text": [
      "demo-rest\n",
      "├── HELP.md\n",
      "├── build.gradle\n",
      "├── gradle\n",
      "│   └── wrapper\n",
      "│       ├── gradle-wrapper.jar\n",
      "│       └── gradle-wrapper.properties\n",
      "├── gradlew\n",
      "├── gradlew.bat\n",
      "├── settings.gradle\n",
      "└── src\n",
      "    ├── main\n",
      "    │   ├── groovy\n",
      "    │   │   └── com\n",
      "    │   │       └── cloudevel\n",
      "    │   │           └── demorest\n",
      "    │   │               └── DemoRestApplication.groovy\n",
      "    │   └── resources\n",
      "    │       ├── application.properties\n",
      "    │       ├── static\n",
      "    │       └── templates\n",
      "    └── test\n",
      "        └── groovy\n",
      "            └── com\n",
      "                └── cloudevel\n",
      "                    └── demorest\n",
      "                        └── DemoRestApplicationTests.groovy\n",
      "\n",
      "16 directories, 10 files\n"
     ]
    }
   ],
   "source": [
    "tree demo-rest"
   ]
  },
  {
   "cell_type": "markdown",
   "metadata": {},
   "source": [
    "### El archivo ```build.gradle```.\n",
    "\n",
    "``` groovy\n",
    "plugins {\n",
    "\tid 'org.springframework.boot' version '2.2.6.RELEASE'\n",
    "\tid 'io.spring.dependency-management' version '1.0.9.RELEASE'\n",
    "\tid 'groovy'\n",
    "}\n",
    "\n",
    "group = 'com.cloudevel'\n",
    "version = '0.0.1-SNAPSHOT'\n",
    "sourceCompatibility = '11'\n",
    "\n",
    "repositories {\n",
    "\tmavenCentral()\n",
    "}\n",
    "\n",
    "dependencies {\n",
    "\timplementation 'org.springframework.boot:spring-boot-starter-web'\n",
    "\timplementation 'org.codehaus.groovy:groovy'\n",
    "\ttestImplementation('org.springframework.boot:spring-boot-starter-test') {\n",
    "\t\texclude group: 'org.junit.vintage', module: 'junit-vintage-engine'\n",
    "\t}\n",
    "}\n",
    "\n",
    "test {\n",
    "\tuseJUnitPlatform()\n",
    "}\n",
    "\n",
    "```"
   ]
  },
  {
   "cell_type": "markdown",
   "metadata": {},
   "source": [
    "### El archivo ```DemoRestApplication.groovy```.\n",
    "\n",
    "``` groovy\n",
    "package com.cloudevel.demorest\n",
    "\n",
    "import org.springframework.boot.SpringApplication\n",
    "import org.springframework.boot.autoconfigure.SpringBootApplication\n",
    "\n",
    "@SpringBootApplication\n",
    "class DemoRestApplication {\n",
    "\n",
    "\tstatic void main(String[] args) {\n",
    "\t\tSpringApplication.run(DemoRestApplication, args)\n",
    "\t}\n",
    "\n",
    "}\n",
    "```"
   ]
  },
  {
   "cell_type": "markdown",
   "metadata": {},
   "source": [
    "### El archivo ```ProductServiceController.java```.\n",
    "\n",
    "Este archivo es el encargado de la parte del controlador de *MVC*, realziando operaciones específicas de un *endpoint* en función del métido utilizado para acceder a este. \n",
    "\n",
    "\n",
    "```java\n",
    "package com.cloudevel.demorest.controller;\n",
    "\n",
    "import java.util.HashMap;\n",
    "import java.util.Map;\n",
    "\n",
    "import org.springframework.http.HttpStatus;\n",
    "import org.springframework.http.ResponseEntity;\n",
    "import org.springframework.web.bind.annotation.PathVariable;\n",
    "import org.springframework.web.bind.annotation.RequestBody;\n",
    "import org.springframework.web.bind.annotation.RequestMapping;\n",
    "import org.springframework.web.bind.annotation.RequestMethod;\n",
    "import org.springframework.web.bind.annotation.RestController;\n",
    "\n",
    "import com.cloudevel.demorest.model.Product;\n",
    "\n",
    "@RestController\n",
    "public class ProductServiceController {\n",
    "   private static Map<String, Product> productRepo = new HashMap<>();\n",
    "   static {\n",
    "      Product leche = new Product();\n",
    "      leche.setId(\"1\");\n",
    "      leche.setName(\"Leche\");\n",
    "      productRepo.put(leche.getId(), leche);\n",
    "      \n",
    "      Product pan = new Product();\n",
    "      pan.setId(\"2\");\n",
    "      pan.setName(\"Pan de caja\");\n",
    "      productRepo.put(pan.getId(), pan);\n",
    "   }\n",
    "   \n",
    "   @RequestMapping(value = \"/products/{id}\", method = RequestMethod.DELETE)\n",
    "   public ResponseEntity<Object> delete(@PathVariable(\"id\") String id) { \n",
    "      productRepo.remove(id);\n",
    "      return new ResponseEntity<>(\"Producto eliminado.\", HttpStatus.OK);\n",
    "   }\n",
    "   \n",
    "   @RequestMapping(value = \"/products/{id}\", method = RequestMethod.PUT)\n",
    "   public ResponseEntity<Object> updateProduct(@PathVariable(\"id\") String id, @RequestBody Product product) { \n",
    "      productRepo.remove(id);\n",
    "      product.setId(id);\n",
    "      productRepo.put(id, product);\n",
    "      return new ResponseEntity<>(\"Producto actualizado.\", HttpStatus.OK);\n",
    "   }\n",
    "   \n",
    "   @RequestMapping(value = \"/products\", method = RequestMethod.POST)\n",
    "   public ResponseEntity<Object> createProduct(@RequestBody Product product) {\n",
    "      productRepo.put(product.getId(), product);\n",
    "      return new ResponseEntity<>(\"Producto creado.\", HttpStatus.CREATED);\n",
    "   }\n",
    "   \n",
    "   @RequestMapping(value = \"/products\")\n",
    "   public ResponseEntity<Object> getProduct() {\n",
    "      return new ResponseEntity<>(productRepo.values(), HttpStatus.OK);\n",
    "   }\n",
    "}\n",
    "```"
   ]
  },
  {
   "cell_type": "markdown",
   "metadata": {},
   "source": [
    "### El paquete ```org.springframework.http```.\n",
    "\n",
    "Este paquete contiene herramientas par la gestión de peticiones y respuestas *HTTP*.\n",
    "\n",
    "https://docs.spring.io/spring-framework/docs/current/javadoc-api/org/springframework/http/"
   ]
  },
  {
   "cell_type": "markdown",
   "metadata": {},
   "source": [
    "#### La clase ```org.springframework.http.ResponseEntity```.\n",
    "\n",
    "https://docs.spring.io/spring-framework/docs/current/javadoc-api/org/springframework/http/ResponseEntity.html"
   ]
  },
  {
   "cell_type": "markdown",
   "metadata": {},
   "source": [
    "#### La clase ```org.springframework.http.HttpStatus```.\n",
    "\n",
    "https://docs.spring.io/spring-framework/docs/current/javadoc-api/org/springframework/http/HttpStatus.html"
   ]
  },
  {
   "cell_type": "markdown",
   "metadata": {},
   "source": [
    "## El archivo *Product.java*.\n",
    "\n",
    "``` java\n",
    "package com.cloudevel.demorest.model;\n",
    "\n",
    "public class Product {\n",
    "   private String id;\n",
    "   private String name;\n",
    "\n",
    "   public String getId() {\n",
    "      return id;\n",
    "   }\n",
    "   public void setId(String id) {\n",
    "      this.id = id;\n",
    "   }\n",
    "   public String getName() {\n",
    "      return name;\n",
    "   }\n",
    "   public void setName(String name) {\n",
    "      this.name = name;\n",
    "   }\n",
    "}\n",
    "```"
   ]
  },
  {
   "cell_type": "markdown",
   "metadata": {},
   "source": [
    "* Se copiarán los archivos a ```demo-rest/src/main/groovy/com/cloudevel/demorest/```."
   ]
  },
  {
   "cell_type": "code",
   "execution_count": 4,
   "metadata": {},
   "outputs": [],
   "source": [
    "cp src/15/DemoRestApplication.groovy src/15/Product.java src/15/ProductServiceController.java demo-rest/src/main/groovy/com/cloudevel/demorest/"
   ]
  },
  {
   "cell_type": "markdown",
   "metadata": {},
   "source": [
    "* Se creará el archivo *.jar*."
   ]
  },
  {
   "cell_type": "code",
   "execution_count": 5,
   "metadata": {},
   "outputs": [],
   "source": [
    "cd demo-rest"
   ]
  },
  {
   "cell_type": "markdown",
   "metadata": {},
   "source": [
    "* La siguiente celda ejecutará el comando de gradle para crear el archivo *.jar*, el cual estará localizado en ```demo-rest/build/libs/demo-rest-0.0.1-SNAPSHOT.jar```."
   ]
  },
  {
   "cell_type": "code",
   "execution_count": 6,
   "metadata": {
    "scrolled": true
   },
   "outputs": [
    {
     "name": "stdout",
     "output_type": "stream",
     "text": [
      "Starting a Gradle Daemon (subsequent builds will be faster)\n",
      "> Task :compileJava NO-SOURCE\n",
      "> Task :compileGroovy\n",
      "> Task :processResources\n",
      "> Task :classes\n",
      "> Task :compileTestJava NO-SOURCE\n",
      "> Task :compileTestGroovy\n",
      "> Task :processTestResources NO-SOURCE\n",
      "> Task :testClasses\n",
      "\n",
      "> Task :test\n",
      "WARNING: An illegal reflective access operation has occurred\n",
      "WARNING: Illegal reflective access by org.codehaus.groovy.reflection.CachedClass (file:/home/oi/.gradle/caches/modules-2/files-2.1/org.codehaus.groovy/groovy/2.5.10/e02047a2de591492cb19e82c9a72bd9d24b25235/groovy-2.5.10.jar) to method java.lang.Object.finalize()\n",
      "WARNING: Please consider reporting this to the maintainers of org.codehaus.groovy.reflection.CachedClass\n",
      "WARNING: Use --illegal-access=warn to enable warnings of further illegal reflective access operations\n",
      "WARNING: All illegal access operations will be denied in a future release\n",
      "2020-04-04 16:38:41.667  INFO 5586 --- [extShutdownHook] o.s.s.concurrent.ThreadPoolTaskExecutor  : Shutting down ExecutorService 'applicationTaskExecutor'\n",
      "\n",
      "BUILD SUCCESSFUL in 1m 3s\n",
      "4 actionable tasks: 4 executed\n"
     ]
    }
   ],
   "source": [
    "gradle test"
   ]
  },
  {
   "cell_type": "code",
   "execution_count": 7,
   "metadata": {},
   "outputs": [
    {
     "name": "stdout",
     "output_type": "stream",
     "text": [
      "> Task :clean\n",
      "> Task :compileJava NO-SOURCE\n",
      "> Task :compileGroovy\n",
      "> Task :processResources\n",
      "> Task :classes\n",
      "> Task :bootJar\n",
      "> Task :jar SKIPPED\n",
      "> Task :assemble\n",
      "> Task :compileTestJava NO-SOURCE\n",
      "> Task :compileTestGroovy\n",
      "> Task :processTestResources NO-SOURCE\n",
      "> Task :testClasses\n",
      "\n",
      "> Task :test\n",
      "WARNING: An illegal reflective access operation has occurred\n",
      "WARNING: Illegal reflective access by org.codehaus.groovy.reflection.CachedClass (file:/home/oi/.gradle/caches/modules-2/files-2.1/org.codehaus.groovy/groovy/2.5.10/e02047a2de591492cb19e82c9a72bd9d24b25235/groovy-2.5.10.jar) to method java.lang.Object.finalize()\n",
      "WARNING: Please consider reporting this to the maintainers of org.codehaus.groovy.reflection.CachedClass\n",
      "WARNING: Use --illegal-access=warn to enable warnings of further illegal reflective access operations\n",
      "WARNING: All illegal access operations will be denied in a future release\n",
      "2020-04-04 16:39:30.853  INFO 5805 --- [extShutdownHook] o.s.s.concurrent.ThreadPoolTaskExecutor  : Shutting down ExecutorService 'applicationTaskExecutor'\n",
      "\n",
      "> Task :check\n",
      "> Task :build\n",
      "\n",
      "BUILD SUCCESSFUL in 8s\n",
      "6 actionable tasks: 6 executed\n"
     ]
    }
   ],
   "source": [
    "gradle clean build"
   ]
  },
  {
   "cell_type": "markdown",
   "metadata": {},
   "source": [
    "* Se ejecutará dicho archivo, el cual levantará un servicio que podrá ser consultado en http://localhost:8080/products"
   ]
  },
  {
   "cell_type": "code",
   "execution_count": 8,
   "metadata": {
    "scrolled": true
   },
   "outputs": [
    {
     "name": "stdout",
     "output_type": "stream",
     "text": [
      "WARNING: An illegal reflective access operation has occurred\n",
      "WARNING: Illegal reflective access by org.codehaus.groovy.reflection.CachedClass (jar:file:/opt/oi/cdpx-121/demo-rest/build/libs/demo-rest-0.0.1-SNAPSHOT.jar!/BOOT-INF/lib/groovy-2.5.10.jar!/) to method java.lang.Object.finalize()\n",
      "WARNING: Please consider reporting this to the maintainers of org.codehaus.groovy.reflection.CachedClass\n",
      "WARNING: Use --illegal-access=warn to enable warnings of further illegal reflective access operations\n",
      "WARNING: All illegal access operations will be denied in a future release\n",
      "\n",
      "  .   ____          _            __ _ _\n",
      " /\\\\ / ___'_ __ _ _(_)_ __  __ _ \\ \\ \\ \\\n",
      "( ( )\\___ | '_ | '_| | '_ \\/ _` | \\ \\ \\ \\\n",
      " \\\\/  ___)| |_)| | | | | || (_| |  ) ) ) )\n",
      "  '  |____| .__|_| |_|_| |_\\__, | / / / /\n",
      " =========|_|==============|___/=/_/_/_/\n",
      "\u001b[32m :: Spring Boot :: \u001b[39m      \u001b[2m (v2.2.6.RELEASE)\u001b[0;39m\n",
      "\n",
      "\u001b[2m2020-04-04 16:40:33.084\u001b[0;39m \u001b[32m INFO\u001b[0;39m \u001b[35m5845\u001b[0;39m \u001b[2m---\u001b[0;39m \u001b[2m[           main]\u001b[0;39m \u001b[36mc.c.demorest.DemoRestApplication        \u001b[0;39m \u001b[2m:\u001b[0;39m Starting DemoRestApplication on cloudevel with PID 5845 (/opt/oi/cdpx-121/demo-rest/build/libs/demo-rest-0.0.1-SNAPSHOT.jar started by oi in /opt/oi/cdpx-121/demo-rest)\n",
      "\u001b[2m2020-04-04 16:40:33.089\u001b[0;39m \u001b[32m INFO\u001b[0;39m \u001b[35m5845\u001b[0;39m \u001b[2m---\u001b[0;39m \u001b[2m[           main]\u001b[0;39m \u001b[36mc.c.demorest.DemoRestApplication        \u001b[0;39m \u001b[2m:\u001b[0;39m No active profile set, falling back to default profiles: default\n",
      "\u001b[2m2020-04-04 16:40:34.451\u001b[0;39m \u001b[32m INFO\u001b[0;39m \u001b[35m5845\u001b[0;39m \u001b[2m---\u001b[0;39m \u001b[2m[           main]\u001b[0;39m \u001b[36mo.s.b.w.embedded.tomcat.TomcatWebServer \u001b[0;39m \u001b[2m:\u001b[0;39m Tomcat initialized with port(s): 8080 (http)\n",
      "\u001b[2m2020-04-04 16:40:34.470\u001b[0;39m \u001b[32m INFO\u001b[0;39m \u001b[35m5845\u001b[0;39m \u001b[2m---\u001b[0;39m \u001b[2m[           main]\u001b[0;39m \u001b[36mo.apache.catalina.core.StandardService  \u001b[0;39m \u001b[2m:\u001b[0;39m Starting service [Tomcat]\n",
      "\u001b[2m2020-04-04 16:40:34.471\u001b[0;39m \u001b[32m INFO\u001b[0;39m \u001b[35m5845\u001b[0;39m \u001b[2m---\u001b[0;39m \u001b[2m[           main]\u001b[0;39m \u001b[36morg.apache.catalina.core.StandardEngine \u001b[0;39m \u001b[2m:\u001b[0;39m Starting Servlet engine: [Apache Tomcat/9.0.33]\n",
      "\u001b[2m2020-04-04 16:40:34.583\u001b[0;39m \u001b[32m INFO\u001b[0;39m \u001b[35m5845\u001b[0;39m \u001b[2m---\u001b[0;39m \u001b[2m[           main]\u001b[0;39m \u001b[36mo.a.c.c.C.[Tomcat].[localhost].[/]      \u001b[0;39m \u001b[2m:\u001b[0;39m Initializing Spring embedded WebApplicationContext\n",
      "\u001b[2m2020-04-04 16:40:34.583\u001b[0;39m \u001b[32m INFO\u001b[0;39m \u001b[35m5845\u001b[0;39m \u001b[2m---\u001b[0;39m \u001b[2m[           main]\u001b[0;39m \u001b[36mo.s.web.context.ContextLoader           \u001b[0;39m \u001b[2m:\u001b[0;39m Root WebApplicationContext: initialization completed in 1401 ms\n",
      "\u001b[2m2020-04-04 16:40:34.832\u001b[0;39m \u001b[32m INFO\u001b[0;39m \u001b[35m5845\u001b[0;39m \u001b[2m---\u001b[0;39m \u001b[2m[           main]\u001b[0;39m \u001b[36mo.s.s.concurrent.ThreadPoolTaskExecutor \u001b[0;39m \u001b[2m:\u001b[0;39m Initializing ExecutorService 'applicationTaskExecutor'\n",
      "\u001b[2m2020-04-04 16:40:35.074\u001b[0;39m \u001b[32m INFO\u001b[0;39m \u001b[35m5845\u001b[0;39m \u001b[2m---\u001b[0;39m \u001b[2m[           main]\u001b[0;39m \u001b[36mo.s.b.w.embedded.tomcat.TomcatWebServer \u001b[0;39m \u001b[2m:\u001b[0;39m Tomcat started on port(s): 8080 (http) with context path ''\n",
      "\u001b[2m2020-04-04 16:40:35.080\u001b[0;39m \u001b[32m INFO\u001b[0;39m \u001b[35m5845\u001b[0;39m \u001b[2m---\u001b[0;39m \u001b[2m[           main]\u001b[0;39m \u001b[36mc.c.demorest.DemoRestApplication        \u001b[0;39m \u001b[2m:\u001b[0;39m Started DemoRestApplication in 2.495 seconds (JVM running for 3.491)\n",
      "\u001b[2m2020-04-04 16:42:02.218\u001b[0;39m \u001b[32m INFO\u001b[0;39m \u001b[35m5845\u001b[0;39m \u001b[2m---\u001b[0;39m \u001b[2m[nio-8080-exec-2]\u001b[0;39m \u001b[36mo.a.c.c.C.[Tomcat].[localhost].[/]      \u001b[0;39m \u001b[2m:\u001b[0;39m Initializing Spring DispatcherServlet 'dispatcherServlet'\n",
      "\u001b[2m2020-04-04 16:42:02.219\u001b[0;39m \u001b[32m INFO\u001b[0;39m \u001b[35m5845\u001b[0;39m \u001b[2m---\u001b[0;39m \u001b[2m[nio-8080-exec-2]\u001b[0;39m \u001b[36mo.s.web.servlet.DispatcherServlet       \u001b[0;39m \u001b[2m:\u001b[0;39m Initializing Servlet 'dispatcherServlet'\n",
      "\u001b[2m2020-04-04 16:42:02.231\u001b[0;39m \u001b[32m INFO\u001b[0;39m \u001b[35m5845\u001b[0;39m \u001b[2m---\u001b[0;39m \u001b[2m[nio-8080-exec-2]\u001b[0;39m \u001b[36mo.s.web.servlet.DispatcherServlet       \u001b[0;39m \u001b[2m:\u001b[0;39m Completed initialization in 12 ms\n",
      "\u001b[2m2020-04-04 17:45:43.816\u001b[0;39m \u001b[32m INFO\u001b[0;39m \u001b[35m5845\u001b[0;39m \u001b[2m---\u001b[0;39m \u001b[2m[extShutdownHook]\u001b[0;39m \u001b[36mo.s.s.concurrent.ThreadPoolTaskExecutor \u001b[0;39m \u001b[2m:\u001b[0;39m Shutting down ExecutorService 'applicationTaskExecutor'\n"
     ]
    }
   ],
   "source": [
    "java -jar build/libs/demo-rest-0.0.1-SNAPSHOT.jar"
   ]
  },
  {
   "cell_type": "markdown",
   "metadata": {},
   "source": [
    "<p style=\"text-align: center\"><a rel=\"license\" href=\"http://creativecommons.org/licenses/by/4.0/\"><img alt=\"Licencia Creative Commons\" style=\"border-width:0\" src=\"https://i.creativecommons.org/l/by/4.0/80x15.png\" /></a><br />Esta obra está bajo una <a rel=\"license\" href=\"http://creativecommons.org/licenses/by/4.0/\">Licencia Creative Commons Atribución 4.0 Internacional</a>.</p>\n",
    "<p style=\"text-align: center\">&copy; José Luis Chiquete Valdivieso. 2020.</p>"
   ]
  }
 ],
 "metadata": {
  "kernelspec": {
   "display_name": "Bash",
   "language": "bash",
   "name": "bash"
  },
  "language_info": {
   "codemirror_mode": "shell",
   "file_extension": ".sh",
   "mimetype": "text/x-sh",
   "name": "bash"
  }
 },
 "nbformat": 4,
 "nbformat_minor": 2
}
