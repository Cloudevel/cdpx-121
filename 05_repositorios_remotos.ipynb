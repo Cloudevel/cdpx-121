{
 "cells": [
  {
   "cell_type": "markdown",
   "metadata": {},
   "source": [
    "<a href=\"https://cloudevel.com\"> <img src=\"img/cloudevel.png\" width=\"500px\"></a>"
   ]
  },
  {
   "cell_type": "markdown",
   "metadata": {},
   "source": [
    "# Repositorios remotos.\n",
    "\n",
    "*Git* tiene la particularidad que puede interactuar con repositorios locales. En vista de que los repostorios de *Git* son directorios comunes y corrientres, lo único que se debe hacer es crear las condiciones para que un usuario pueda acceder de forma remota a dicho directorio.\n",
    "\n",
    "De este modo, la forma en la que un usuario accede a el repositorio no depende de *Git* sino del servidor que lo contiene."
   ]
  },
  {
   "cell_type": "markdown",
   "metadata": {},
   "source": [
    "## Protocolos soportados por *Git*.\n",
    "* *SSH.*\n",
    "* *HTTP/HTTPS.*"
   ]
  },
  {
   "cell_type": "markdown",
   "metadata": {},
   "source": [
    "## Autenticación soportada por *Git*.\n",
    "\n",
    "* Los esquemas de autenticación de  *SSH*.\n",
    "* Los esquemas de autenticación de *HTTP*.\n",
    "* Autenticación federada con *OAuth*."
   ]
  },
  {
   "cell_type": "markdown",
   "metadata": {},
   "source": [
    "## El comando ```git clone```.\n",
    "\n",
    "El comando ```git clone``` permite traer el contenido un repositoro remoto a un repositorio local.\n",
    "\n",
    "\n",
    "```\n",
    "git clone <URL> <ruta>\n",
    "```\n",
    "\n",
    "Donde:\n",
    "\n",
    "* ```<URL>``` es la ruta en la que se encuentra el repositorio remoto.\n",
    "* ```<ruta>``` es la ruta del nuevo repositorio local.\n",
    "\n",
    "La referencia al comando ```git clone``` puede ser consultada en:\n",
    "\n",
    "https://git-scm.com/docs/git-clone"
   ]
  },
  {
   "cell_type": "code",
   "execution_count": 1,
   "metadata": {},
   "outputs": [
    {
     "name": "stdout",
     "output_type": "stream",
     "text": [
      "Cloning into 'experimental'...\n",
      "done.\n"
     ]
    }
   ],
   "source": [
    "git clone demo experimental"
   ]
  },
  {
   "cell_type": "code",
   "execution_count": 2,
   "metadata": {},
   "outputs": [
    {
     "name": "stdout",
     "output_type": "stream",
     "text": [
      "demo\n",
      "├── archivo-1\n",
      "├── archivo-2\n",
      "└── invisible\n",
      "\n",
      "0 directories, 3 files\n"
     ]
    }
   ],
   "source": [
    "tree demo"
   ]
  },
  {
   "cell_type": "code",
   "execution_count": 3,
   "metadata": {},
   "outputs": [
    {
     "name": "stdout",
     "output_type": "stream",
     "text": [
      "experimental\n",
      "├── archivo-1\n",
      "└── archivo-2\n",
      "\n",
      "0 directories, 2 files\n"
     ]
    }
   ],
   "source": [
    "tree experimental"
   ]
  },
  {
   "cell_type": "markdown",
   "metadata": {},
   "source": [
    "**Ejemplo:**"
   ]
  },
  {
   "cell_type": "markdown",
   "metadata": {},
   "source": [
    "* La siguiente celda creará una copia del repositorio remoto localizado en https://github.com/PythonistaIO/nuevo en el subdirectorio ```experimental```."
   ]
  },
  {
   "cell_type": "code",
   "execution_count": 4,
   "metadata": {},
   "outputs": [
    {
     "name": "stdout",
     "output_type": "stream",
     "text": [
      "Cloning into 'nuevo'...\n",
      "remote: Enumerating objects: 14, done.        \n",
      "remote: Counting objects: 100% (14/14), done.        \n",
      "remote: Compressing objects: 100% (11/11), done.        \n",
      "remote: Total 14 (delta 3), reused 4 (delta 1), pack-reused 0        \n",
      "Unpacking objects: 100% (14/14), done.\n"
     ]
    }
   ],
   "source": [
    "git clone https://github.com/PythonistaIO/nuevo.git"
   ]
  },
  {
   "cell_type": "code",
   "execution_count": 5,
   "metadata": {},
   "outputs": [],
   "source": [
    "cd nuevo"
   ]
  },
  {
   "cell_type": "code",
   "execution_count": 6,
   "metadata": {},
   "outputs": [
    {
     "name": "stdout",
     "output_type": "stream",
     "text": [
      ".   archivo-localizado  .git        LICENSE                  README.md\n",
      "..  archivo_unico.txt   .gitignore  pythonista-facebook.png\n"
     ]
    }
   ],
   "source": [
    "ls -a"
   ]
  },
  {
   "cell_type": "markdown",
   "metadata": {},
   "source": [
    "## El comando ```git remote```.\n",
    "\n",
    "El comando ```git remote``` permite realizar operaciones d gestión de repositorios remotos. \n",
    "\n",
    "La referencia al comando ```git remote``` puede ser consultada en:\n",
    "\n",
    "https://git-scm.com/docs/git-remote"
   ]
  },
  {
   "cell_type": "markdown",
   "metadata": {},
   "source": [
    "### Listado de repositorios remotos.\n",
    "\n",
    "La sintaxis para enlistar los repositorios remotos ligados a un repositorio local.  \n",
    "```git remote show```.\n",
    "\n",
    "**Nota:** Como regla general, el repositorio remoto principal tiene como nombre ```origin```."
   ]
  },
  {
   "cell_type": "code",
   "execution_count": 7,
   "metadata": {
    "scrolled": false
   },
   "outputs": [
    {
     "name": "stdout",
     "output_type": "stream",
     "text": [
      "origin\n"
     ]
    }
   ],
   "source": [
    "git remote show"
   ]
  },
  {
   "cell_type": "markdown",
   "metadata": {},
   "source": [
    "### Configuración de los repositorios remotos en el ámbito ```--local```.\n",
    "\n",
    "La configuración de un repositorio remoto es guardada en el ámbito ```--local``` en un registro con la estructura.\n",
    "\n",
    "```\n",
    "remote.<nombre>\n",
    "```\n",
    "\n",
    "Donde:\n",
    "\n",
    "* ```<nombre>``` es el nombre dado al repositorio remoto."
   ]
  },
  {
   "cell_type": "markdown",
   "metadata": {},
   "source": [
    "**Ejemplo:**"
   ]
  },
  {
   "cell_type": "markdown",
   "metadata": {},
   "source": [
    "* La siguiente celda traerá la configuración del ámbito ```--local``` del repositorio actual. Se podrá apreciar que el registro ```remote.origin``` corresponde a la configuración del reposotorio remoto ```origin```."
   ]
  },
  {
   "cell_type": "code",
   "execution_count": 8,
   "metadata": {},
   "outputs": [
    {
     "name": "stdout",
     "output_type": "stream",
     "text": [
      "core.repositoryformatversion=0\n",
      "core.filemode=true\n",
      "core.bare=false\n",
      "core.logallrefupdates=true\n",
      "remote.origin.url=https://github.com/PythonistaIO/nuevo.git\n",
      "remote.origin.fetch=+refs/heads/*:refs/remotes/origin/*\n",
      "branch.master.remote=origin\n",
      "branch.master.merge=refs/heads/master\n"
     ]
    }
   ],
   "source": [
    "git config --local --list"
   ]
  },
  {
   "cell_type": "code",
   "execution_count": 9,
   "metadata": {},
   "outputs": [
    {
     "name": "stdout",
     "output_type": "stream",
     "text": [
      "[core]\n",
      "\trepositoryformatversion = 0\n",
      "\tfilemode = true\n",
      "\tbare = false\n",
      "\tlogallrefupdates = true\n",
      "[remote \"origin\"]\n",
      "\turl = https://github.com/PythonistaIO/nuevo.git\n",
      "\tfetch = +refs/heads/*:refs/remotes/origin/*\n",
      "[branch \"master\"]\n",
      "\tremote = origin\n",
      "\tmerge = refs/heads/master\n"
     ]
    }
   ],
   "source": [
    "cat .git/config"
   ]
  },
  {
   "cell_type": "markdown",
   "metadata": {},
   "source": [
    "### Adición de un repositorio remoto.\n",
    "\n",
    "Para relacionar unrepositorio remoto a un repositorio local se usa la siguiente sintaxis.\n",
    "\n",
    "```\n",
    "git remote add <nombre> <URL>\n",
    "```\n",
    "\n",
    "Donde:\n",
    "\n",
    "* ```<nombre>``` es el nombre que se le dará al repositorio remoto.\n",
    "* ```<URL>``` es la URL del repositorio remoto."
   ]
  },
  {
   "cell_type": "markdown",
   "metadata": {},
   "source": [
    "**Ejemplo:**"
   ]
  },
  {
   "cell_type": "markdown",
   "metadata": {},
   "source": [
    "* Se relacionará al repositorio localizado en la URL ```git@github.com:PythonistaIO/nuevo.git``` con el nombre ```alterno```"
   ]
  },
  {
   "cell_type": "code",
   "execution_count": 10,
   "metadata": {},
   "outputs": [],
   "source": [
    "git remote add alterno git@github.com:PythonistaIO/nuevo.git"
   ]
  },
  {
   "cell_type": "code",
   "execution_count": 11,
   "metadata": {},
   "outputs": [
    {
     "name": "stdout",
     "output_type": "stream",
     "text": [
      "alterno\n",
      "origin\n"
     ]
    }
   ],
   "source": [
    "git remote show"
   ]
  },
  {
   "cell_type": "code",
   "execution_count": 12,
   "metadata": {},
   "outputs": [
    {
     "name": "stdout",
     "output_type": "stream",
     "text": [
      "core.repositoryformatversion=0\n",
      "core.filemode=true\n",
      "core.bare=false\n",
      "core.logallrefupdates=true\n",
      "remote.origin.url=https://github.com/PythonistaIO/nuevo.git\n",
      "remote.origin.fetch=+refs/heads/*:refs/remotes/origin/*\n",
      "branch.master.remote=origin\n",
      "branch.master.merge=refs/heads/master\n",
      "remote.alterno.url=git@github.com:PythonistaIO/nuevo.git\n",
      "remote.alterno.fetch=+refs/heads/*:refs/remotes/alterno/*\n"
     ]
    }
   ],
   "source": [
    "git config --local --list"
   ]
  },
  {
   "cell_type": "code",
   "execution_count": 13,
   "metadata": {},
   "outputs": [
    {
     "name": "stdout",
     "output_type": "stream",
     "text": [
      "[core]\n",
      "\trepositoryformatversion = 0\n",
      "\tfilemode = true\n",
      "\tbare = false\n",
      "\tlogallrefupdates = true\n",
      "[remote \"origin\"]\n",
      "\turl = https://github.com/PythonistaIO/nuevo.git\n",
      "\tfetch = +refs/heads/*:refs/remotes/origin/*\n",
      "[branch \"master\"]\n",
      "\tremote = origin\n",
      "\tmerge = refs/heads/master\n",
      "[remote \"alterno\"]\n",
      "\turl = git@github.com:PythonistaIO/nuevo.git\n",
      "\tfetch = +refs/heads/*:refs/remotes/alterno/*\n"
     ]
    }
   ],
   "source": [
    "cat .git/config"
   ]
  },
  {
   "cell_type": "markdown",
   "metadata": {},
   "source": [
    "## Acceso a la rama  de un repositorio remoto.\n",
    "\n",
    "*Git* permite acceder a las ramas de un repositorio remoto utilizando el comando ```git checkout```, Sin embargo, ya que dichas ramas no pertenecen al repositorio local, la rama remota a la que se acceda estará en estado ```'detached HEAD'```."
   ]
  },
  {
   "cell_type": "markdown",
   "metadata": {},
   "source": [
    "### Referencia a la rama de un repositorio remoto.\n",
    "\n",
    "Para hacer referencia a un archivo remoto se utiliza la siguiente estructura:\n",
    "\n",
    "```\n",
    "<remoto>/<rama>\n",
    "```\n",
    "\n",
    "Donde:\n",
    "\n",
    "* ```<remoto>``` es el nombre del repositorio remoto.\n",
    "* ```<rama>``` es el nombre de la rama en el repositorio remoto.\n",
    "\n",
    "**Nota:** Es muy importante hacer notar que el acceso a un repositorio remoto no se realiza mediante una conexión continua, por lo que es necesario actualizar la información contenida en dichos repositorios mediante los comandos ```git fetch``` y ```git pull```."
   ]
  },
  {
   "cell_type": "markdown",
   "metadata": {},
   "source": [
    "**Ejemplo:**"
   ]
  },
  {
   "cell_type": "markdown",
   "metadata": {},
   "source": [
    "* La siguiente celda acccederá al repositorio ```origin/master```."
   ]
  },
  {
   "cell_type": "code",
   "execution_count": 14,
   "metadata": {},
   "outputs": [
    {
     "name": "stdout",
     "output_type": "stream",
     "text": [
      "Note: checking out 'origin/master'.\n",
      "\n",
      "You are in 'detached HEAD' state. You can look around, make experimental\n",
      "changes and commit them, and you can discard any commits you make in this\n",
      "state without impacting any branches by performing another checkout.\n",
      "\n",
      "If you want to create a new branch to retain commits you create, you may\n",
      "do so (now or later) by using -b with the checkout command again. Example:\n",
      "\n",
      "  git checkout -b <new-branch-name>\n",
      "\n",
      "HEAD is now at 259ba8a commit local\n"
     ]
    }
   ],
   "source": [
    "git checkout origin/master"
   ]
  },
  {
   "cell_type": "code",
   "execution_count": 15,
   "metadata": {},
   "outputs": [
    {
     "name": "stdout",
     "output_type": "stream",
     "text": [
      "archivo-localizado  LICENSE                  README.md\n",
      "archivo_unico.txt   pythonista-facebook.png\n"
     ]
    }
   ],
   "source": [
    "ls"
   ]
  },
  {
   "cell_type": "markdown",
   "metadata": {},
   "source": [
    "* La siguiente celda regresará al repositorio ```master```. "
   ]
  },
  {
   "cell_type": "code",
   "execution_count": 16,
   "metadata": {},
   "outputs": [
    {
     "name": "stdout",
     "output_type": "stream",
     "text": [
      "Switched to branch 'master'\n",
      "Your branch is up to date with 'origin/master'.\n"
     ]
    }
   ],
   "source": [
    "git checkout master"
   ]
  },
  {
   "cell_type": "code",
   "execution_count": 19,
   "metadata": {},
   "outputs": [],
   "source": [
    "echo hola >> archivo-localizado"
   ]
  },
  {
   "cell_type": "code",
   "execution_count": 20,
   "metadata": {},
   "outputs": [],
   "source": [
    "git add --all"
   ]
  },
  {
   "cell_type": "code",
   "execution_count": 21,
   "metadata": {},
   "outputs": [
    {
     "name": "stdout",
     "output_type": "stream",
     "text": [
      "[master b496a93] commit local\n",
      " 1 file changed, 1 insertion(+)\n"
     ]
    }
   ],
   "source": [
    "git commit -m \"commit local\" "
   ]
  },
  {
   "cell_type": "markdown",
   "metadata": {},
   "source": [
    "* La siguiente celda desplegará las diferencias entre las ramas ```origin/master``` y ```master```."
   ]
  },
  {
   "cell_type": "code",
   "execution_count": 22,
   "metadata": {},
   "outputs": [
    {
     "name": "stdout",
     "output_type": "stream",
     "text": [
      "diff --git a/archivo-localizado b/archivo-localizado\n",
      "index e69de29..5c1b149 100644\n",
      "--- a/archivo-localizado\n",
      "+++ b/archivo-localizado\n",
      "@@ -0,0 +1 @@\n",
      "+hola\n"
     ]
    }
   ],
   "source": [
    "git diff origin/master master"
   ]
  },
  {
   "cell_type": "code",
   "execution_count": 23,
   "metadata": {},
   "outputs": [
    {
     "name": "stdout",
     "output_type": "stream",
     "text": [
      "On branch master\n",
      "Your branch is ahead of 'origin/master' by 1 commit.\n",
      "  (use \"git push\" to publish your local commits)\n",
      "\n",
      "nothing to commit, working tree clean\n"
     ]
    }
   ],
   "source": [
    "git status"
   ]
  },
  {
   "cell_type": "markdown",
   "metadata": {},
   "source": [
    "## Actualización de un repositorio local con respecto a un repositorio remoto.\n",
    "\n",
    "Es posible traer las actualizaciones de un repositorio remoto mediante dos comandos.\n",
    "\n",
    "* ```git fetch```\n",
    "* ```git pull```"
   ]
  },
  {
   "cell_type": "markdown",
   "metadata": {},
   "source": [
    "### El comando ```git fetch```.\n",
    "\n",
    "Este comando actualiza los cambios del repositorio remoto. \n",
    "\n",
    "``` bash\n",
    "git fetch <remoto>.<rama>\n",
    "```\n",
    "* Donde ```<remoto>``` corresponde al nombre del repositorio remoto. El valor por defecto es ```origin```.\n",
    "* * Donde ```<rama>``` corresponde a la etiqueta de la rama en el repositorio remoto. El valor por defecto es la rama actual del repositorio local.\n",
    "\n",
    "La documentación de referencia del comando ```git fetch``` está disponible en:\n",
    "\n",
    "https://git-scm.com/docs/git-fetch"
   ]
  },
  {
   "cell_type": "markdown",
   "metadata": {},
   "source": [
    "**Ejemplo:**"
   ]
  },
  {
   "cell_type": "markdown",
   "metadata": {},
   "source": [
    "* La siguiente celda ejecutará el comado ```git fetch``` para ```origin/master```."
   ]
  },
  {
   "cell_type": "code",
   "execution_count": 24,
   "metadata": {},
   "outputs": [],
   "source": [
    "git fetch"
   ]
  },
  {
   "cell_type": "code",
   "execution_count": 25,
   "metadata": {
    "scrolled": true
   },
   "outputs": [
    {
     "name": "stdout",
     "output_type": "stream",
     "text": [
      "On branch master\n",
      "Your branch is ahead of 'origin/master' by 1 commit.\n",
      "  (use \"git push\" to publish your local commits)\n",
      "\n",
      "nothing to commit, working tree clean\n"
     ]
    }
   ],
   "source": [
    "git status"
   ]
  },
  {
   "cell_type": "code",
   "execution_count": 26,
   "metadata": {},
   "outputs": [
    {
     "name": "stdout",
     "output_type": "stream",
     "text": [
      "diff --git a/archivo-localizado b/archivo-localizado\n",
      "index 5c1b149..e69de29 100644\n",
      "--- a/archivo-localizado\n",
      "+++ b/archivo-localizado\n",
      "@@ -1 +0,0 @@\n",
      "-hola\n"
     ]
    }
   ],
   "source": [
    "git diff master origin/master"
   ]
  },
  {
   "cell_type": "markdown",
   "metadata": {},
   "source": [
    "### El comando ```git pull```.\n",
    "\n",
    "Este comando es similar a ```git fetch```, pero realiza un ```merge``` de forma automática. \n",
    "\n",
    "La referencia al comando ```git pull``` puede ser consultada en:\n",
    "\n",
    "https://git-scm.com/docs/git-pull"
   ]
  },
  {
   "cell_type": "code",
   "execution_count": 27,
   "metadata": {
    "scrolled": true
   },
   "outputs": [
    {
     "name": "stdout",
     "output_type": "stream",
     "text": [
      "Already up to date.\n"
     ]
    }
   ],
   "source": [
    "git pull"
   ]
  },
  {
   "cell_type": "code",
   "execution_count": 28,
   "metadata": {},
   "outputs": [
    {
     "name": "stdout",
     "output_type": "stream",
     "text": [
      "On branch master\n",
      "Your branch is ahead of 'origin/master' by 1 commit.\n",
      "  (use \"git push\" to publish your local commits)\n",
      "\n",
      "nothing to commit, working tree clean\n"
     ]
    },
    {
     "ename": "",
     "evalue": "1",
     "output_type": "error",
     "traceback": []
    }
   ],
   "source": [
    "git commit -m \"nuevo remoto\""
   ]
  },
  {
   "cell_type": "code",
   "execution_count": 29,
   "metadata": {},
   "outputs": [
    {
     "name": "stdout",
     "output_type": "stream",
     "text": [
      "On branch master\n",
      "Your branch is ahead of 'origin/master' by 1 commit.\n",
      "  (use \"git push\" to publish your local commits)\n",
      "\n",
      "nothing to commit, working tree clean\n"
     ]
    }
   ],
   "source": [
    "git status"
   ]
  },
  {
   "cell_type": "markdown",
   "metadata": {},
   "source": [
    "## El comando ```git push```.\n",
    "\n",
    "El comando ```git push``` permite enviar los cambios de una rama de un repositorio local a un repostiorio remoto.\n",
    "\n",
    "**Nota:** Es importante que el usuario tenga los permisos necesarios para realizar esta acción.\n",
    "\n",
    "``` bash\n",
    "git push <remoto> <rama>\n",
    "```\n",
    "\n",
    "Donde:\n",
    "* ```<remoto>``` es el nombre de un repositorio remoto.\n",
    "* ```<rama>``` es la rama que se quiere afectar en el repositorio remoto.\n",
    "\n",
    "La referencia al comando ```git push``` puede ser consultada en:\n",
    "\n",
    "https://git-scm.com/docs/git-push"
   ]
  },
  {
   "cell_type": "markdown",
   "metadata": {},
   "source": [
    "**Ejemplo:**\n",
    "\n",
    "``` bash\n",
    "> git push origin master\n",
    "```\n",
    "```bash\n",
    "Username for 'https://github.com': pythonistaio\n",
    "Password for 'https://pythonistaio@github.com':\n",
    "Counting objects: 3, done.\n",
    "Delta compression using up to 6 threads.\n",
    "Compressing objects: 100% (2/2), done.\n",
    "Writing objects: 100% (3/3), 273 bytes | 273.00 KiB/s, done.\n",
    "Total 3 (delta 1), reused 0 (delta 0)\n",
    "remote: Resolving deltas: 100% (1/1), completed with 1 local object.\n",
    "To https://github.com/PythonistaIO/nuevo.git\n",
    "   7bd73b0..259ba8a  master -> master\n",
    "```\n",
    "\n",
    "``` bash\n",
    "> git status\n",
    "```\n",
    "``` bash\n",
    "On branch master\n",
    "Your branch is up to date with 'origin/master'.\n",
    "\n",
    "nothing to commit, working tree clean\n",
    "``` "
   ]
  },
  {
   "cell_type": "markdown",
   "metadata": {},
   "source": [
    "## El servicio *GitHub*.\n",
    "\n",
    "[*Github*](https://github.com/) Es un sitio que ofrece múltiples servicios para desarrolladores de software tales como:\n",
    "\n",
    "* Repositorios remotos de *Git* públicos y privados.\n",
    "* Wikis.\n",
    "* Gists.\n",
    "* Gestión de proyectos.\n",
    "* Automatización de creación de artefactos.\n",
    "* Herramientas de DevOps.\n",
    "* Servicios de nivel \"Enterprise\"."
   ]
  },
  {
   "cell_type": "markdown",
   "metadata": {},
   "source": [
    "### Forks.\n",
    "\n",
    "*Github* permite realizar copias del repositorio de un usuario al repositorio de otro usuario."
   ]
  },
  {
   "cell_type": "markdown",
   "metadata": {},
   "source": [
    "### Pull requests.\n",
    "\n",
    "A partir de los *forks* es posible colaborar con un proyecto clonado (fork), mediante *Pull Requests*, en las que un usuario permite compartir y discutir los cambios ehchos en su repositorio clonado a otro usuario para que incluya dichos cambios a su propio repositorio."
   ]
  },
  {
   "cell_type": "markdown",
   "metadata": {},
   "source": [
    "<p style=\"text-align: center\"><a rel=\"license\" href=\"http://creativecommons.org/licenses/by/4.0/\"><img alt=\"Licencia Creative Commons\" style=\"border-width:0\" src=\"https://i.creativecommons.org/l/by/4.0/80x15.png\" /></a><br />Esta obra está bajo una <a rel=\"license\" href=\"http://creativecommons.org/licenses/by/4.0/\">Licencia Creative Commons Atribución 4.0 Internacional</a>.</p>\n",
    "<p style=\"text-align: center\">&copy; José Luis Chiquete Valdivieso. 2020.</p>"
   ]
  }
 ],
 "metadata": {
  "kernelspec": {
   "display_name": "Bash",
   "language": "bash",
   "name": "bash"
  },
  "language_info": {
   "codemirror_mode": "shell",
   "file_extension": ".sh",
   "mimetype": "text/x-sh",
   "name": "bash"
  }
 },
 "nbformat": 4,
 "nbformat_minor": 2
}
